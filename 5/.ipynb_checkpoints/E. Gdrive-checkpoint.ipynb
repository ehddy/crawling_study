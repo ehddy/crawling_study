{
 "cells": [
  {
   "cell_type": "code",
   "execution_count": 1,
   "id": "677a9178",
   "metadata": {},
   "outputs": [],
   "source": [
    "from googleapiclient.discovery import build\n",
    "from httplib2 import Http\n",
    "from oauth2client import file, client, tools"
   ]
  },
  {
   "cell_type": "code",
   "execution_count": 2,
   "id": "52f31989",
   "metadata": {
    "scrolled": true
   },
   "outputs": [
    {
     "name": "stdout",
     "output_type": "stream",
     "text": [
      "Authentication needed\n",
      "Go to the following url in your browser:\n",
      "https://accounts.google.com/o/oauth2/auth?access_type=offline&client_id=367116221053-7n0vf5akeru7on6o2fjinrecpdoe99eg.apps.googleusercontent.com&redirect_uri=urn%3Aietf%3Awg%3Aoauth%3A2.0%3Aoob&response_type=code&scope=https%3A%2F%2Fwww.googleapis.com%2Fauth%2Fdrive&state=state\n",
      "\n",
      "Enter verification code: Failed reading code: EOF\n"
     ]
    },
    {
     "name": "stderr",
     "output_type": "stream",
     "text": [
      "Failed getting oauth client: Failed to exchange auth code for token: oauth2: cannot fetch token: 400 Bad Request\n",
      "Response: {\n",
      "  \"error\": \"invalid_request\",\n",
      "  \"error_description\": \"Missing required parameter: code\"\n",
      "}"
     ]
    },
    {
     "data": {
      "text/plain": [
       "256"
      ]
     },
     "execution_count": 2,
     "metadata": {},
     "output_type": "execute_result"
    }
   ],
   "source": [
    "import os\n",
    "\n",
    "os.system('gdrive list')\n",
    "# os.system('gdrive about')\"\"\n",
    "\n",
    "# os.system('gdrive mkdir GDRIVE')#폴더 생성"
   ]
  },
  {
   "cell_type": "markdown",
   "id": "bf3bb3bc",
   "metadata": {},
   "source": [
    " ### 코드출처) pbj0812.tistory.com/193"
   ]
  },
  {
   "cell_type": "code",
   "execution_count": 3,
   "id": "92ca5312",
   "metadata": {},
   "outputs": [],
   "source": [
    "from googleapiclient.discovery import build\n",
    "from httplib2 import Http\n",
    "from oauth2client import file, client, tools"
   ]
  },
  {
   "cell_type": "code",
   "execution_count": 7,
   "id": "58155b93",
   "metadata": {},
   "outputs": [
    {
     "name": "stderr",
     "output_type": "stream",
     "text": [
      "usage: ipykernel_launcher.py [-h] [--auth_host_name AUTH_HOST_NAME]\n",
      "                             [--noauth_local_webserver]\n",
      "                             [--auth_host_port [AUTH_HOST_PORT ...]]\n",
      "                             [--logging_level {DEBUG,INFO,WARNING,ERROR,CRITICAL}]\n",
      "ipykernel_launcher.py: error: unrecognized arguments: -f /Users/dongyokim/Library/Jupyter/runtime/kernel-a30b878d-aa6c-479a-9f27-9914b9de20f9.json\n"
     ]
    },
    {
     "ename": "SystemExit",
     "evalue": "2",
     "output_type": "error",
     "traceback": [
      "An exception has occurred, use %tb to see the full traceback.\n",
      "\u001b[0;31mSystemExit\u001b[0m\u001b[0;31m:\u001b[0m 2\n"
     ]
    }
   ],
   "source": [
    "from googleapiclient.discovery import build\n",
    "from googleapiclient.http import MediaFileUpload\n",
    "from httplib2 import Http\n",
    "from oauth2client import file, client, tools\n",
    "\n",
    "# api 연결 및 사전정보 입력\n",
    "SCOPES = ['https://www.googleapis.com/auth/drive.metadata', \n",
    "          'https://www.googleapis.com/auth/drive.file',\n",
    "          'https://www.googleapis.com/auth/drive']\n",
    "store = file.Storage('storage.json')\n",
    "creds = store.get()\n",
    "    \n",
    "# 권한 인증 창. 제일 처음만 창이 띄워짐\n",
    "try :\n",
    "    import argparse\n",
    "    flags = argparse.ArgumentParser(parents=[tools.argparser]).parse_args()\n",
    "except ImportError:\n",
    "    flags = None\n",
    "if not creds or creds.invalid:\n",
    "    print('make new cred')\n",
    "    flow = client.flow_from_clientsecrets('credentials.json', SCOPES)\n",
    "    creds = tools.run_flow(flow, store, flags) if flags else tools.run_flow(flow, store)\n",
    "    \n",
    "service = build('drive','v3',credentials=creds)\n",
    "    \n",
    "# 업로드 할 파일\n",
    "file_paths = \"/Users/dongyokim/main/jupyter/2022:Summer/크롤링 스터디/5/아이유 너.txt\"\n",
    "    \n",
    "# 업로드할 파일 정보 정의\n",
    "# parents: 업로드할 구글 드라이브 위치의 url 마지막 ID\n",
    "file_metadata = {\n",
    "\"name\": \"아이유 너.txt\",\n",
    "\"parents\": [\"1kUQrUZYfvnfmCByx0MZOxEtHMPDsu-T5\"]}\n",
    "# 파일 업로드\n",
    "media = MediaFileUpload(file_paths, resumable=True)\n",
    "file = service.files().create(body=file_metadata, media_body=media, fields='id').execute()\n",
    "\n"
   ]
  },
  {
   "cell_type": "code",
   "execution_count": null,
   "id": "1f09dee1",
   "metadata": {},
   "outputs": [],
   "source": []
  }
 ],
 "metadata": {
  "kernelspec": {
   "display_name": "Python 3 (ipykernel)",
   "language": "python",
   "name": "python3"
  },
  "language_info": {
   "codemirror_mode": {
    "name": "ipython",
    "version": 3
   },
   "file_extension": ".py",
   "mimetype": "text/x-python",
   "name": "python",
   "nbconvert_exporter": "python",
   "pygments_lexer": "ipython3",
   "version": "3.9.7"
  }
 },
 "nbformat": 4,
 "nbformat_minor": 5
}
