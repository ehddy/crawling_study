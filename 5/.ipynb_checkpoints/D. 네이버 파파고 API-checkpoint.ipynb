{
 "cells": [
  {
   "cell_type": "markdown",
   "id": "f1d82f91",
   "metadata": {},
   "source": [
    "## 1. 네이버 파파고 API\n",
    "---"
   ]
  },
  {
   "cell_type": "markdown",
   "id": "f8f6749b",
   "metadata": {},
   "source": [
    "### PaPaGo API"
   ]
  },
  {
   "cell_type": "markdown",
   "id": "2f91705c",
   "metadata": {},
   "source": [
    "- NMT(Neural Machine Translation) : 인공신경망 기반 기계 번역\n",
    "- SMT(Statistical Machine Translation) : 통계 기반 기계 번역\n",
    "\n",
    "가이드:  \n",
    "https://developers.naver.com/docs/papago/papago-nmt-example-code.md#python "
   ]
  },
  {
   "cell_type": "markdown",
   "id": "eaba684d",
   "metadata": {},
   "source": [
    "---\n",
    "### 기본 예제(윈도우)"
   ]
  },
  {
   "cell_type": "code",
   "execution_count": 1,
   "id": "a7720046",
   "metadata": {},
   "outputs": [
    {
     "name": "stdout",
     "output_type": "stream",
     "text": [
      "{\"message\":{\"result\":{\"srcLangType\":\"ko\",\"tarLangType\":\"en\",\"translatedText\":\"What to translate\",\"engineType\":\"N2MT\",\"pivot\":null,\"dict\":null,\"tarDict\":null},\"@type\":\"response\",\"@service\":\"naverservice.nmt.proxy\",\"@version\":\"1.0.0\"}}\n"
     ]
    }
   ],
   "source": [
    "import os\n",
    "import sys\n",
    "import urllib.request\n",
    "client_id = \"발급받은ID\" # 개발자센터에서 발급받은 Client ID 값\n",
    "client_secret = \"발급받은SECRET\" # 개발자센터에서 발급받은 Client Secret 값\n",
    "encText = urllib.parse.quote(\"번역할내용\")\n",
    "data = \"source=ko&target=en&text=\" + encText\n",
    "url = \"https://openapi.naver.com/v1/papago/n2mt\"\n",
    "request = urllib.request.Request(url)\n",
    "request.add_header(\"X-Naver-Client-Id\",client_id)\n",
    "request.add_header(\"X-Naver-Client-Secret\",client_secret)\n",
    "response = urllib.request.urlopen(request, data=data.encode(\"utf-8\"))\n",
    "rescode = response.getcode()\n",
    "if(rescode==200):\n",
    "    response_body = response.read()\n",
    "    print(response_body.decode('utf-8'))\n",
    "else:\n",
    "    print(\"Error Code:\" + rescode)"
   ]
  },
  {
   "cell_type": "markdown",
   "id": "5092b74e",
   "metadata": {},
   "source": [
    "---\n",
    "### 기본 예제(맥)"
   ]
  },
  {
   "cell_type": "code",
   "execution_count": 1,
   "id": "8f33b67b",
   "metadata": {},
   "outputs": [
    {
     "name": "stdout",
     "output_type": "stream",
     "text": [
      "200\n",
      "{'message': {'result': {'srcLangType': 'ko', 'tarLangType': 'en', 'translatedText': 'Hello', 'engineType': 'PRETRANS', 'pivot': None, 'dict': None, 'tarDict': None}, '@type': 'response', '@service': 'naverservice.nmt.proxy', '@version': '1.0.0'}}\n"
     ]
    }
   ],
   "source": [
    "import requests\n",
    "\n",
    "client_id = \"mw7Ucq6V4sudd6pA57Zx\"\n",
    "client_secret = \"bPsXJT7RnN\"\n",
    "\n",
    "url = \"https://openapi.naver.com/v1/papago/n2mt\"\n",
    "headers = {\"X-Naver-Client-Id\":client_id,\n",
    "           \"X-Naver-Client-Secret\":client_secret}\n",
    "\n",
    "data = {'source':'ko',\n",
    "        'target':'en',\n",
    "        'text':'안녕하세요'.encode('utf-8')}\n",
    "\n",
    "res = requests.post(url,data=data,headers=headers)\n",
    "print(res.status_code)\n",
    "print(res.json())"
   ]
  },
  {
   "cell_type": "code",
   "execution_count": 2,
   "id": "1069985b",
   "metadata": {},
   "outputs": [],
   "source": [
    "import requests"
   ]
  },
  {
   "cell_type": "code",
   "execution_count": 3,
   "id": "c619a9f6",
   "metadata": {},
   "outputs": [],
   "source": [
    "def mac_papago():\n",
    "    print('================================')\n",
    "    print()\n",
    "    print('API 사용자 인증')\n",
    "    client_id = input(\"client_id: \")\n",
    "    client_secret = input(\"client_secret: \")\n",
    "    print()\n",
    "    print('================================')\n",
    "    print('번역 대상 언어 코드 \\n 1.ko : 한국어 \\n 2.en : 영어 \\n 3.zh-CN : 중국어 간체 \\n 4.zh-TW : 중국어 번체 \\n 5.es : 스페인어 \\n 6.fr : 프랑스어 \\n 7.vi : 베트남어 \\n 8.th : 태국어 \\n 9.id : 인도네시아어')\n",
    "    print()\n",
    "    print('================================')\n",
    "    language_1 = input('번역 대상 언어를 선택해주세요(해당 번호 입력): ')\n",
    "    print()\n",
    "    print('================================')\n",
    "    print('번역 결과 언어 코드. \\n 1.ko : 한국어 \\n 2.en : 영어 \\n 3.zh-CN : 중국어 간체 \\n 4.zh-TW : 중국어 번체 \\n 5.es : 스페인어 \\n 6.fr : 프랑스어 \\n 7.vi : 베트남어 \\n 8.th : 태국어 \\n 9.id : 인도네시아어')\n",
    "    print()\n",
    "    language_2 = input('번역 결과 언어를 선택해주세요(해당 번호 입력): ')\n",
    "    print('================================')\n",
    "    print('번호선택 \\n 1.직접입력 \\n 2.파일 첨부')\n",
    "    print()\n",
    "    file_yes_or_no = int(input('번역할 문장을 직접 입력하시겠습니까? 아니면 텍스트 파일을 첨부하시겠습니까?(번호 선택) '))\n",
    "    print('================================')\n",
    "    print()\n",
    "    \n",
    "    tartget_dict = {\n",
    "        '1' : 'ko',\n",
    "        '2' : 'en', \n",
    "        '3' : 'zh-CN', \n",
    "        '4' : 'zh-TW',\n",
    "        '5' : 'es', \n",
    "        '6' : 'fr', \n",
    "        '7' : 'vi',\n",
    "        '8' : 'th', \n",
    "        '9' : 'id', \n",
    "    }\n",
    "    \n",
    "    result_dict = {\n",
    "        '1' : 'ko',\n",
    "        '2' : 'en', \n",
    "        '3' : 'zh-CN', \n",
    "        '4' : 'zh-TW',\n",
    "        '5' : 'es', \n",
    "        '6' : 'fr', \n",
    "        '7' : 'vi',\n",
    "        '8' : 'th', \n",
    "        '9' : 'id', \n",
    "    }\n",
    "    \n",
    "    \n",
    "    if file_yes_or_no == 1:\n",
    "        text = input('번역할 문장을 직접 입력해주세요: ')\n",
    "    \n",
    "\n",
    "    else:\n",
    "        source = input('텍스트 파일의 경로를 입력해주세요: ')\n",
    "        with open(source,'r',encoding='utf8') as f:\n",
    "            text = f.read()\n",
    "    \n",
    "    url = \"https://openapi.naver.com/v1/papago/n2mt\"\n",
    "    headers = {\"X-Naver-Client-Id\":client_id,\n",
    "               \"X-Naver-Client-Secret\":client_secret}\n",
    "    \n",
    "    data = {'source':tartget_dict[language_1],\n",
    "            'target':tartget_dict[language_2],\n",
    "            'text':text.encode('utf-8')}\n",
    "    \n",
    "    \n",
    "    res = requests.post(url,data=data,headers=headers)\n",
    "    result = res.json()\n",
    "    translated = result['message']['result']['translatedText']\n",
    "    \n",
    "    print()\n",
    "    print('====== 번역 결과 =====')\n",
    "    print(translated)\n",
    "    print('====================')\n",
    "    \n",
    "    return "
   ]
  },
  {
   "cell_type": "code",
   "execution_count": null,
   "id": "e482b7da",
   "metadata": {},
   "outputs": [],
   "source": [
    "client_id = \"mw7Ucq6V4sudd6pA57Zx\" # 개발자센터에서 발급받은 Client ID 값\n",
    "client_secret = \"bPsXJT7RnN\" # 개발자센터에서 발급받은 Client Secret 값\n",
    "\n",
    "txt_file = '/Users/dongyokim/main/jupyter/2022:Summer/크롤링 스터디/5/아이유 너.txt' # 텍스트 파일 경로 "
   ]
  },
  {
   "cell_type": "code",
   "execution_count": 6,
   "id": "cf83b117",
   "metadata": {
    "scrolled": false
   },
   "outputs": [
    {
     "name": "stdout",
     "output_type": "stream",
     "text": [
      "================================\n",
      "\n",
      "API 사용자 인증\n",
      "client_id: mw7Ucq6V4sudd6pA57Zx\n",
      "client_secret: bPsXJT7RnN\n",
      "\n",
      "================================\n",
      "번역 대상 언어 코드 \n",
      " 1.ko : 한국어 \n",
      " 2.en : 영어 \n",
      " 3.zh-CN : 중국어 간체 \n",
      " 4.zh-TW : 중국어 번체 \n",
      " 5.es : 스페인어 \n",
      " 6.fr : 프랑스어 \n",
      " 7.vi : 베트남어 \n",
      " 8.th : 태국어 \n",
      " 9.id : 인도네시아어\n",
      "\n",
      "================================\n",
      "번역 대상 언어를 선택해주세요(해당 번호 입력): 1\n",
      "\n",
      "================================\n",
      "번역 결과 언어 코드. \n",
      " 1.ko : 한국어 \n",
      " 2.en : 영어 \n",
      " 3.zh-CN : 중국어 간체 \n",
      " 4.zh-TW : 중국어 번체 \n",
      " 5.es : 스페인어 \n",
      " 6.fr : 프랑스어 \n",
      " 7.vi : 베트남어 \n",
      " 8.th : 태국어 \n",
      " 9.id : 인도네시아어\n",
      "\n",
      "번역 결과 언어를 선택해주세요(해당 번호 입력): 2\n",
      "================================\n",
      "번호 선택 \n",
      " 1.직접입력 \n",
      " 2.파일 첨부\n",
      "\n",
      "번역할 문장을 직접 입력하시겠습니까? 아니면 텍스트 파일을 첨부하시겠습니까?(번호 선택) 2\n",
      "================================\n",
      "\n",
      "텍스트 파일의 경로를 입력해주세요: /Users/dongyokim/main/jupyter/2022:Summer/크롤링 스터디/5/아이유 너.txt\n",
      "\n",
      "====== 번역 결과 =====\n",
      "from a distance\n",
      "Looking at things that have nothing to do with it,\n",
      "in a lonely mood\n",
      "I think of you, I miss you\n",
      "Oh, I'm so sad\n",
      "Are you doing it on purpose?\n",
      "What about you?\n",
      "Do I look pretty today?\n",
      "You, you, you\n",
      "Wherever you are,\n",
      "Is the sky the same as here?\n",
      "When you suddenly stop walking,\n",
      "Then think of me for a moment\n",
      "Well.\n",
      "It's all like you\n",
      "Is it this much?\n",
      "Floating, flowing, rolling\n",
      "It is falling off.\n",
      "You, you, you\n",
      "from a distance\n",
      "Who do you know?\n",
      "a starless dark night\n",
      "I think of you, the only you\n",
      "(Laughing)\n",
      "Well.\n",
      "====================\n"
     ]
    }
   ],
   "source": [
    "mac_papago()"
   ]
  },
  {
   "cell_type": "code",
   "execution_count": null,
   "id": "e5777443",
   "metadata": {},
   "outputs": [],
   "source": []
  }
 ],
 "metadata": {
  "kernelspec": {
   "display_name": "Python 3 (ipykernel)",
   "language": "python",
   "name": "python3"
  },
  "language_info": {
   "codemirror_mode": {
    "name": "ipython",
    "version": 3
   },
   "file_extension": ".py",
   "mimetype": "text/x-python",
   "name": "python",
   "nbconvert_exporter": "python",
   "pygments_lexer": "ipython3",
   "version": "3.9.7"
  }
 },
 "nbformat": 4,
 "nbformat_minor": 5
}
