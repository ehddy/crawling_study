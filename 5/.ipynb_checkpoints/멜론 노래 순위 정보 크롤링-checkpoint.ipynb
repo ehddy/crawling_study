{
 "cells": [
  {
   "cell_type": "code",
   "execution_count": 5,
   "id": "e3345923",
   "metadata": {},
   "outputs": [],
   "source": [
    "from selenium import webdriver\n",
    "import time\n",
    "from selenium.webdriver.common.keys import Keys\n",
    "\n",
    "import requests\n",
    "import pandas as pd\n",
    "import numpy as np\n",
    "from bs4 import BeautifulSoup as bs"
   ]
  },
  {
   "cell_type": "code",
   "execution_count": 6,
   "id": "4e290204",
   "metadata": {},
   "outputs": [
    {
     "name": "stderr",
     "output_type": "stream",
     "text": [
      "/var/folders/7d/bm3zqtjx7xsb__yxj254h7kh0000gn/T/ipykernel_19159/2833909967.py:1: DeprecationWarning: executable_path has been deprecated, please pass in a Service object\n",
      "  driver = webdriver.Chrome('/Users/dongyokim/main/jupyter/chromedriver/chromedriver')\n"
     ]
    }
   ],
   "source": [
    "driver = webdriver.Chrome('/Users/dongyokim/main/jupyter/chromedriver/chromedriver')\n",
    "\n",
    "url = \"https://www.melon.com/chart/index.htm\"\n",
    "driver.get(url)\n",
    "\n",
    "driver.set_window_size(1000, 1000)\n",
    "\n",
    "html = driver.page_source\n",
    "\n",
    "soup = bs(html, 'html.parser')"
   ]
  },
  {
   "cell_type": "code",
   "execution_count": 18,
   "id": "ba9f776d",
   "metadata": {},
   "outputs": [],
   "source": [
    "table = soup.select('#frm > div > table > tbody > tr')"
   ]
  },
  {
   "cell_type": "code",
   "execution_count": 30,
   "id": "3c69a0f6",
   "metadata": {},
   "outputs": [],
   "source": [
    "final_rank_list = []\n",
    "for data in table: \n",
    "    rank = data.select('td')[1].text\n",
    "    img_link = data.select_one('td:nth-child(4) > div > a > img')['src']\n",
    "    title = data.select_one('td:nth-child(6) > div > div > div.ellipsis.rank01 > span > a').text\n",
    "    singer = data.select_one('td:nth-child(6) > div > div > div.ellipsis.rank02 > a').text\n",
    "    album_name = data.select_one('td:nth-child(7) > div > div > div > a').text\n",
    "    like_count = data.select_one('td:nth-child(8) > div > button > span.cnt').text.replace('총건수', '').strip()\n",
    "    \n",
    "    final_rank_list.append([rank, img_link, title, singer, album_name, like_count])"
   ]
  },
  {
   "cell_type": "code",
   "execution_count": 33,
   "id": "159c71fb",
   "metadata": {},
   "outputs": [],
   "source": [
    "data = pd.DataFrame(data=final_rank_list, columns=['순위', '앨범 사진 링크', '제목', '가수', '앨범명' '앨범', '좋아요'])"
   ]
  },
  {
   "cell_type": "code",
   "execution_count": 36,
   "id": "8141a71b",
   "metadata": {},
   "outputs": [],
   "source": [
    "data.set_index('순위', inplace=True)"
   ]
  },
  {
   "cell_type": "code",
   "execution_count": 37,
   "id": "94eb9cd6",
   "metadata": {},
   "outputs": [
    {
     "data": {
      "text/html": [
       "<div>\n",
       "<style scoped>\n",
       "    .dataframe tbody tr th:only-of-type {\n",
       "        vertical-align: middle;\n",
       "    }\n",
       "\n",
       "    .dataframe tbody tr th {\n",
       "        vertical-align: top;\n",
       "    }\n",
       "\n",
       "    .dataframe thead th {\n",
       "        text-align: right;\n",
       "    }\n",
       "</style>\n",
       "<table border=\"1\" class=\"dataframe\">\n",
       "  <thead>\n",
       "    <tr style=\"text-align: right;\">\n",
       "      <th></th>\n",
       "      <th>앨범 사진 링크</th>\n",
       "      <th>제목</th>\n",
       "      <th>가수</th>\n",
       "      <th>앨범명앨범</th>\n",
       "      <th>좋아요</th>\n",
       "    </tr>\n",
       "    <tr>\n",
       "      <th>순위</th>\n",
       "      <th></th>\n",
       "      <th></th>\n",
       "      <th></th>\n",
       "      <th></th>\n",
       "      <th></th>\n",
       "    </tr>\n",
       "  </thead>\n",
       "  <tbody>\n",
       "    <tr>\n",
       "      <th>1위</th>\n",
       "      <td>https://cdnimg.melon.co.kr/cm2/album/images/11...</td>\n",
       "      <td>Attention</td>\n",
       "      <td>NewJeans</td>\n",
       "      <td>NewJeans 1st EP 'New Jeans'</td>\n",
       "      <td>119,450</td>\n",
       "    </tr>\n",
       "    <tr>\n",
       "      <th>2위</th>\n",
       "      <td>https://cdnimg.melon.co.kr/cm2/album/images/11...</td>\n",
       "      <td>Pink Venom</td>\n",
       "      <td>BLACKPINK</td>\n",
       "      <td>Pink Venom</td>\n",
       "      <td>76,873</td>\n",
       "    </tr>\n",
       "    <tr>\n",
       "      <th>3위</th>\n",
       "      <td>https://cdnimg.melon.co.kr/cm2/album/images/11...</td>\n",
       "      <td>Hype boy</td>\n",
       "      <td>NewJeans</td>\n",
       "      <td>NewJeans 1st EP 'New Jeans'</td>\n",
       "      <td>81,996</td>\n",
       "    </tr>\n",
       "    <tr>\n",
       "      <th>4위</th>\n",
       "      <td>https://cdnimg.melon.co.kr/cm2/album/images/11...</td>\n",
       "      <td>그때 그 순간 그대로 (그그그)</td>\n",
       "      <td>WSG워너비 (가야G)</td>\n",
       "      <td>WSG워너비 1집</td>\n",
       "      <td>104,275</td>\n",
       "    </tr>\n",
       "    <tr>\n",
       "      <th>5위</th>\n",
       "      <td>https://cdnimg.melon.co.kr/cm2/album/images/11...</td>\n",
       "      <td>FOREVER 1</td>\n",
       "      <td>소녀시대 (GIRLS' GENERATION)</td>\n",
       "      <td>FOREVER 1 - The 7th Album</td>\n",
       "      <td>59,083</td>\n",
       "    </tr>\n",
       "    <tr>\n",
       "      <th>...</th>\n",
       "      <td>...</td>\n",
       "      <td>...</td>\n",
       "      <td>...</td>\n",
       "      <td>...</td>\n",
       "      <td>...</td>\n",
       "    </tr>\n",
       "    <tr>\n",
       "      <th>96위</th>\n",
       "      <td>https://cdnimg.melon.co.kr/cm2/album/images/10...</td>\n",
       "      <td>문득</td>\n",
       "      <td>BE'O (비오)</td>\n",
       "      <td>Bipolar</td>\n",
       "      <td>116,466</td>\n",
       "    </tr>\n",
       "    <tr>\n",
       "      <th>97위</th>\n",
       "      <td>https://cdnimg.melon.co.kr/cm2/album/images/11...</td>\n",
       "      <td>스티커 사진</td>\n",
       "      <td>21학번</td>\n",
       "      <td>스티커 사진</td>\n",
       "      <td>19,230</td>\n",
       "    </tr>\n",
       "    <tr>\n",
       "      <th>98위</th>\n",
       "      <td>https://cdnimg.melon.co.kr/cm2/album/images/10...</td>\n",
       "      <td>손이 참 곱던 그대</td>\n",
       "      <td>임영웅</td>\n",
       "      <td>IM HERO</td>\n",
       "      <td>39,342</td>\n",
       "    </tr>\n",
       "    <tr>\n",
       "      <th>99위</th>\n",
       "      <td>https://cdnimg.melon.co.kr/cm2/album/images/10...</td>\n",
       "      <td>사랑해 진짜</td>\n",
       "      <td>임영웅</td>\n",
       "      <td>IM HERO</td>\n",
       "      <td>39,892</td>\n",
       "    </tr>\n",
       "    <tr>\n",
       "      <th>100위</th>\n",
       "      <td>https://cdnimg.melon.co.kr/cm2/album/images/10...</td>\n",
       "      <td>Blueming</td>\n",
       "      <td>아이유</td>\n",
       "      <td>Love poem</td>\n",
       "      <td>342,597</td>\n",
       "    </tr>\n",
       "  </tbody>\n",
       "</table>\n",
       "<p>100 rows × 5 columns</p>\n",
       "</div>"
      ],
      "text/plain": [
       "                                               앨범 사진 링크                 제목  \\\n",
       "순위                                                                           \n",
       "1위    https://cdnimg.melon.co.kr/cm2/album/images/11...          Attention   \n",
       "2위    https://cdnimg.melon.co.kr/cm2/album/images/11...         Pink Venom   \n",
       "3위    https://cdnimg.melon.co.kr/cm2/album/images/11...           Hype boy   \n",
       "4위    https://cdnimg.melon.co.kr/cm2/album/images/11...  그때 그 순간 그대로 (그그그)   \n",
       "5위    https://cdnimg.melon.co.kr/cm2/album/images/11...          FOREVER 1   \n",
       "...                                                 ...                ...   \n",
       "96위   https://cdnimg.melon.co.kr/cm2/album/images/10...                 문득   \n",
       "97위   https://cdnimg.melon.co.kr/cm2/album/images/11...             스티커 사진   \n",
       "98위   https://cdnimg.melon.co.kr/cm2/album/images/10...         손이 참 곱던 그대   \n",
       "99위   https://cdnimg.melon.co.kr/cm2/album/images/10...             사랑해 진짜   \n",
       "100위  https://cdnimg.melon.co.kr/cm2/album/images/10...           Blueming   \n",
       "\n",
       "                            가수                        앨범명앨범      좋아요  \n",
       "순위                                                                    \n",
       "1위                    NewJeans  NewJeans 1st EP 'New Jeans'  119,450  \n",
       "2위                   BLACKPINK                   Pink Venom   76,873  \n",
       "3위                    NewJeans  NewJeans 1st EP 'New Jeans'   81,996  \n",
       "4위                WSG워너비 (가야G)                    WSG워너비 1집  104,275  \n",
       "5위    소녀시대 (GIRLS' GENERATION)    FOREVER 1 - The 7th Album   59,083  \n",
       "...                        ...                          ...      ...  \n",
       "96위                  BE'O (비오)                      Bipolar  116,466  \n",
       "97위                       21학번                       스티커 사진   19,230  \n",
       "98위                        임영웅                      IM HERO   39,342  \n",
       "99위                        임영웅                      IM HERO   39,892  \n",
       "100위                       아이유                    Love poem  342,597  \n",
       "\n",
       "[100 rows x 5 columns]"
      ]
     },
     "execution_count": 37,
     "metadata": {},
     "output_type": "execute_result"
    }
   ],
   "source": [
    "data"
   ]
  },
  {
   "cell_type": "code",
   "execution_count": 38,
   "id": "91984d74",
   "metadata": {},
   "outputs": [],
   "source": [
    "data.to_excel('멜론 실시간 노래 순위.xlsx')"
   ]
  },
  {
   "cell_type": "code",
   "execution_count": null,
   "id": "511c4cd6",
   "metadata": {},
   "outputs": [],
   "source": []
  }
 ],
 "metadata": {
  "kernelspec": {
   "display_name": "Python 3 (ipykernel)",
   "language": "python",
   "name": "python3"
  },
  "language_info": {
   "codemirror_mode": {
    "name": "ipython",
    "version": 3
   },
   "file_extension": ".py",
   "mimetype": "text/x-python",
   "name": "python",
   "nbconvert_exporter": "python",
   "pygments_lexer": "ipython3",
   "version": "3.9.7"
  }
 },
 "nbformat": 4,
 "nbformat_minor": 5
}
