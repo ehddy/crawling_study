{
 "cells": [
  {
   "cell_type": "code",
   "execution_count": 9,
   "id": "677a9178",
   "metadata": {},
   "outputs": [],
   "source": [
    "from googleapiclient.discovery import build\n",
    "from httplib2 import Http\n",
    "from oauth2client import file, client, tools"
   ]
  },
  {
   "cell_type": "code",
   "execution_count": 6,
   "id": "52f31989",
   "metadata": {
    "scrolled": true
   },
   "outputs": [
    {
     "name": "stdout",
     "output_type": "stream",
     "text": [
      "Authentication needed\n",
      "Go to the following url in your browser:\n",
      "https://accounts.google.com/o/oauth2/auth?access_type=offline&client_id=367116221053-7n0vf5akeru7on6o2fjinrecpdoe99eg.apps.googleusercontent.com&redirect_uri=urn%3Aietf%3Awg%3Aoauth%3A2.0%3Aoob&response_type=code&scope=https%3A%2F%2Fwww.googleapis.com%2Fauth%2Fdrive&state=state\n",
      "\n",
      "Enter verification code: Failed reading code: EOF\n"
     ]
    },
    {
     "name": "stderr",
     "output_type": "stream",
     "text": [
      "Failed getting oauth client: Failed to exchange auth code for token: oauth2: cannot fetch token: 400 Bad Request\n",
      "Response: {\n",
      "  \"error\": \"invalid_request\",\n",
      "  \"error_description\": \"Missing required parameter: code\"\n",
      "}"
     ]
    },
    {
     "data": {
      "text/plain": [
       "256"
      ]
     },
     "execution_count": 6,
     "metadata": {},
     "output_type": "execute_result"
    }
   ],
   "source": [
    "import os\n",
    "\n",
    "os.system('gdrive list')\n",
    "# os.system('gdrive about')\"\"\n",
    "\n",
    "# os.system('gdrive mkdir GDRIVE')#폴더 생성"
   ]
  },
  {
   "cell_type": "code",
   "execution_count": null,
   "id": "58155b93",
   "metadata": {},
   "outputs": [],
   "source": []
  }
 ],
 "metadata": {
  "kernelspec": {
   "display_name": "Python 3 (ipykernel)",
   "language": "python",
   "name": "python3"
  },
  "language_info": {
   "codemirror_mode": {
    "name": "ipython",
    "version": 3
   },
   "file_extension": ".py",
   "mimetype": "text/x-python",
   "name": "python",
   "nbconvert_exporter": "python",
   "pygments_lexer": "ipython3",
   "version": "3.9.7"
  }
 },
 "nbformat": 4,
 "nbformat_minor": 5
}
