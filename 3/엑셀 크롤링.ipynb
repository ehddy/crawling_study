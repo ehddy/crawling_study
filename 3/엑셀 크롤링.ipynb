{
 "cells": [
  {
   "cell_type": "code",
   "execution_count": 3,
   "id": "d5e87976",
   "metadata": {},
   "outputs": [
    {
     "name": "stdout",
     "output_type": "stream",
     "text": [
      "['b.xlsx', 'c.xlsx', 'a.xlsx']\n"
     ]
    }
   ],
   "source": [
    "import os \n",
    "\n",
    "\n",
    "path = \"./excel_crawling/files\"\n",
    "\n",
    "file_list = os.listdir(path)\n",
    "\n",
    "print(file_list)"
   ]
  },
  {
   "cell_type": "code",
   "execution_count": 8,
   "id": "727a6619",
   "metadata": {},
   "outputs": [
    {
     "name": "stdout",
     "output_type": "stream",
     "text": [
      "[['b.xlsx', '엑스맨', '남성', '싸움꾼', 38], ['c.xlsx', '슈퍼맨', '남성', '영웅', 32], ['a.xlsx', '배트맨 ', '남성', '백수', 23]]\n"
     ]
    }
   ],
   "source": [
    "# openpyxl을 활용해 엑셀 파일의 값들을 리스트의 리스트로 저장\n",
    "from openpyxl import load_workbook\n",
    "\n",
    "results = []\n",
    "\n",
    "for file_name_raw in file_list:\n",
    "    \n",
    "    \n",
    "    file_name = \"./excel_crawling/files/\" + file_name_raw\n",
    "    wb = load_workbook(filename=file_name, data_only=True)\n",
    "    ws = wb.active\n",
    "    \n",
    "    result = []\n",
    "    result.append(file_name_raw)\n",
    "    result.append(ws['C2'].value)\n",
    "    result.append(ws['C3'].value)\n",
    "    result.append(ws['E2'].value)\n",
    "    result.append(ws['E3'].value)\n",
    "    \n",
    "    results.append(result)\n",
    "    \n",
    "    \n",
    "print(results)\n",
    "\n",
    "\n",
    "\n",
    "    "
   ]
  },
  {
   "cell_type": "code",
   "execution_count": 9,
   "id": "d6148af0",
   "metadata": {},
   "outputs": [],
   "source": [
    "# openpyxl을 활용해 수집한 값들을 하나의 엑셀파일에 쓰고 저장\n",
    "from openpyxl import Workbook \n",
    "\n",
    "wb = Workbook()\n",
    "ws = wb.active\n",
    "\n",
    "\n",
    "for i in results:\n",
    "    ws.append(i)\n",
    "    \n",
    "wb.save('results.xlsx')"
   ]
  },
  {
   "cell_type": "code",
   "execution_count": null,
   "id": "75a30daa",
   "metadata": {},
   "outputs": [],
   "source": []
  }
 ],
 "metadata": {
  "kernelspec": {
   "display_name": "Python 3 (ipykernel)",
   "language": "python",
   "name": "python3"
  },
  "language_info": {
   "codemirror_mode": {
    "name": "ipython",
    "version": 3
   },
   "file_extension": ".py",
   "mimetype": "text/x-python",
   "name": "python",
   "nbconvert_exporter": "python",
   "pygments_lexer": "ipython3",
   "version": "3.9.7"
  }
 },
 "nbformat": 4,
 "nbformat_minor": 5
}
