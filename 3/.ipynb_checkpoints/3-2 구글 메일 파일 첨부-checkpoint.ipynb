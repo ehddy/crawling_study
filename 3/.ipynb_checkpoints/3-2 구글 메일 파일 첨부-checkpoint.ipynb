{
 "cells": [
  {
   "cell_type": "markdown",
   "id": "7dd725dc",
   "metadata": {},
   "source": [
    "## 구글 메일 파일 첨부 \n",
    "---"
   ]
  },
  {
   "cell_type": "markdown",
   "id": "b96ba707",
   "metadata": {},
   "source": [
    "### 파일 첨부 메일 전송"
   ]
  },
  {
   "cell_type": "code",
   "execution_count": 1,
   "id": "c0e63c9c",
   "metadata": {},
   "outputs": [
    {
     "ename": "FileNotFoundError",
     "evalue": "[Errno 2] No such file or directory: '파일명'",
     "output_type": "error",
     "traceback": [
      "\u001b[0;31m---------------------------------------------------------------------------\u001b[0m",
      "\u001b[0;31mFileNotFoundError\u001b[0m                         Traceback (most recent call last)",
      "Input \u001b[0;32mIn [1]\u001b[0m, in \u001b[0;36m<module>\u001b[0;34m\u001b[0m\n\u001b[1;32m     25\u001b[0m \u001b[38;5;66;03m#파일 추가\u001b[39;00m\n\u001b[1;32m     26\u001b[0m etcFileName \u001b[38;5;241m=\u001b[39m \u001b[38;5;124m'\u001b[39m\u001b[38;5;124m파일명\u001b[39m\u001b[38;5;124m'\u001b[39m\n\u001b[0;32m---> 27\u001b[0m \u001b[38;5;28;01mwith\u001b[39;00m \u001b[38;5;28;43mopen\u001b[39;49m\u001b[43m(\u001b[49m\u001b[43metcFileName\u001b[49m\u001b[43m,\u001b[49m\u001b[43m \u001b[49m\u001b[38;5;124;43m'\u001b[39;49m\u001b[38;5;124;43mrb\u001b[39;49m\u001b[38;5;124;43m'\u001b[39;49m\u001b[43m)\u001b[49m \u001b[38;5;28;01mas\u001b[39;00m etcFD : \n\u001b[1;32m     28\u001b[0m     etcPart \u001b[38;5;241m=\u001b[39m MIMEApplication( etcFD\u001b[38;5;241m.\u001b[39mread() )\n\u001b[1;32m     29\u001b[0m     \u001b[38;5;66;03m#첨부파일의 정보를 헤더로 추가\u001b[39;00m\n",
      "\u001b[0;31mFileNotFoundError\u001b[0m: [Errno 2] No such file or directory: '파일명'"
     ]
    }
   ],
   "source": [
    "import smtplib # 메일을 보내기 위한 라이브러리 모듈\n",
    "from email.mime.multipart import MIMEMultipart\n",
    "from email.mime.text import MIMEText\n",
    "from email.mime.application import MIMEApplication \n",
    "\n",
    "sendEmail = \"구글ID@gmail.com\"\n",
    "recvEmail = \"받는 이메일\"\n",
    "password = \"구글 비밀번호\"\n",
    "\n",
    "smtpName = \"smtp.gmail.com\"\n",
    "smtpPort = 587\n",
    "\n",
    "#여러 MIME을 넣기위한 MIMEMultipart 객체 생성\n",
    "msg = MIMEMultipart()\n",
    "\n",
    "msg['Subject'] =\"메일 제목\"\n",
    "msg['From'] = sendEmail \n",
    "msg['To'] = recvEmail \n",
    "\n",
    "#본문 추가\n",
    "text = \"이것은 메일 내용\"\n",
    "contentPart = MIMEText(text) #MIMEText(text , _charset = \"utf8\")\n",
    "msg.attach(contentPart) \n",
    "\n",
    "#파일 추가\n",
    "etcFileName = '파일명'\n",
    "with open(etcFileName, 'rb') as etcFD : \n",
    "    etcPart = MIMEApplication( etcFD.read() )\n",
    "    #첨부파일의 정보를 헤더로 추가\n",
    "    etcPart.add_header('Content-Disposition','attachment', filename=etcFileName)\n",
    "    msg.attach(etcPart) \n",
    "\n",
    "s=smtplib.SMTP( smtpName , smtpPort )\n",
    "s.starttls()\n",
    "s.login( sendEmail , password ) \n",
    "s.sendmail( sendEmail, recvEmail, msg.as_string() )  \n",
    "s.close() \n"
   ]
  },
  {
   "cell_type": "code",
   "execution_count": null,
   "id": "b6e3156b",
   "metadata": {},
   "outputs": [],
   "source": [
    "from account import *\n",
    "from email.message import EmailMessage\n",
    "from smtplib import SMTP_SSL\n",
    "from pathlib import Path\n",
    "def send_mail(받는사람, 제목, 본문, 첨부파일=False):\n",
    "    # 템플릿 생성\n",
    "    msg = EmailMessage()\n",
    "    # 보내는 사람 / 받는 사람 / 제목 입력\n",
    "    msg[\"From\"] = MY_ID\n",
    "    msg[\"To\"] = 받는사람\n",
    "    msg[\"Subject\"] = 제목\n",
    "    # 본문 구성\n",
    "    msg.set_content(본문)\n",
    "    \n",
    "    # 파일 첨부\n",
    "    if 첨부파일:\n",
    "        파일명 = Path(첨부파일).name\n",
    "        with open(첨부파일, \"rb\") as f:\n",
    "            msg.add_attachment(f.read(), maintype=\"application\", subtype=\"octet-stream\", filename=파일명)\n",
    "            msg.add_header('Content-Disposition', 'attachment', filename=파일명)\n",
    "    with SMTP_SSL(\"smtp.gmail.com\", 465) as smtp:\n",
    "        smtp.login(MY_ID, MY_PW)\n",
    "        smtp.send_message(msg)\n",
    "    # 완료 메시지\n",
    "    print(받는사람, \"성공\", sep=\"\\t\")"
   ]
  }
 ],
 "metadata": {
  "kernelspec": {
   "display_name": "Python 3 (ipykernel)",
   "language": "python",
   "name": "python3"
  },
  "language_info": {
   "codemirror_mode": {
    "name": "ipython",
    "version": 3
   },
   "file_extension": ".py",
   "mimetype": "text/x-python",
   "name": "python",
   "nbconvert_exporter": "python",
   "pygments_lexer": "ipython3",
   "version": "3.9.7"
  }
 },
 "nbformat": 4,
 "nbformat_minor": 5
}
