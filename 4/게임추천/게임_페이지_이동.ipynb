{
 "cells": [
  {
   "cell_type": "code",
   "execution_count": 1,
   "id": "8aa884dd",
   "metadata": {},
   "outputs": [],
   "source": [
    "from bs4 import BeautifulSoup as bs\n",
    "from selenium import webdriver\n",
    "import time\n",
    "import requests\n",
    "import pandas as pd"
   ]
  },
  {
   "cell_type": "code",
   "execution_count": 2,
   "id": "c8def115",
   "metadata": {},
   "outputs": [
    {
     "name": "stderr",
     "output_type": "stream",
     "text": [
      "/var/folders/7d/bm3zqtjx7xsb__yxj254h7kh0000gn/T/ipykernel_25787/3415354181.py:1: DeprecationWarning: executable_path has been deprecated, please pass in a Service object\n",
      "  driver = webdriver.Chrome('/Users/dongyokim/main/jupyter/chromedriver/chromedriver')\n"
     ]
    }
   ],
   "source": [
    "driver = webdriver.Chrome('/Users/dongyokim/main/jupyter/chromedriver/chromedriver')\n",
    "driver.get(\"https://www.gamemeca.com/game.php\")\n",
    "\n",
    "driver.set_window_size(1000, 1000)"
   ]
  },
  {
   "cell_type": "code",
   "execution_count": 3,
   "id": "2fbb80d6",
   "metadata": {},
   "outputs": [
    {
     "name": "stdout",
     "output_type": "stream",
     "text": [
      "몇 페이지까지 이동하시겠습니까?15\n",
      "==========================================================\n"
     ]
    },
    {
     "name": "stderr",
     "output_type": "stream",
     "text": [
      "/var/folders/7d/bm3zqtjx7xsb__yxj254h7kh0000gn/T/ipykernel_25787/1284794340.py:6: DeprecationWarning: find_element_by_* commands are deprecated. Please use find_element() instead\n",
      "  next_page = driver.find_element_by_css_selector('#list-page-nav > a.num_next.move-list-page')\n"
     ]
    },
    {
     "name": "stdout",
     "output_type": "stream",
     "text": [
      "==========================================================\n",
      "15 페이지까지 이동을 완료했습니다.\n"
     ]
    }
   ],
   "source": [
    "page_num = int(input('몇 페이지까지 이동하시겠습니까?'))\n",
    "print('==========================================================')\n",
    "\n",
    "for page in range(page_num-1):\n",
    "    time.sleep(1)\n",
    "    next_page = driver.find_element_by_css_selector('#list-page-nav > a.num_next.move-list-page')\n",
    "    next_page.click()\n",
    "\n",
    "print('==========================================================')\n",
    "print(next_page.get_attribute('data-p'), '페이지까지 이동을 완료했습니다.')"
   ]
  },
  {
   "cell_type": "code",
   "execution_count": null,
   "id": "086459f5",
   "metadata": {},
   "outputs": [],
   "source": []
  }
 ],
 "metadata": {
  "kernelspec": {
   "display_name": "Python 3 (ipykernel)",
   "language": "python",
   "name": "python3"
  },
  "language_info": {
   "codemirror_mode": {
    "name": "ipython",
    "version": 3
   },
   "file_extension": ".py",
   "mimetype": "text/x-python",
   "name": "python",
   "nbconvert_exporter": "python",
   "pygments_lexer": "ipython3",
   "version": "3.9.7"
  }
 },
 "nbformat": 4,
 "nbformat_minor": 5
}
