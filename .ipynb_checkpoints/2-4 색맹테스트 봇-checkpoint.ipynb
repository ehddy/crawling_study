{
 "cells": [
  {
   "cell_type": "markdown",
   "id": "eb7e7637",
   "metadata": {},
   "source": [
    "## 색맹테스트 봇 과정"
   ]
  },
  {
   "cell_type": "code",
   "execution_count": 27,
   "id": "14fff6a7",
   "metadata": {},
   "outputs": [],
   "source": [
    "from selenium import webdriver\n",
    "import time\n",
    "from selenium.webdriver.common.keys import Keys\n",
    "from bs4 import BeautifulSoup as bs\n",
    "\n",
    "\n",
    "# 값과 개수를 딕셔너리로 표현 \n",
    "from collections import Counter"
   ]
  },
  {
   "cell_type": "code",
   "execution_count": 23,
   "id": "ce2a3c5a",
   "metadata": {},
   "outputs": [
    {
     "name": "stderr",
     "output_type": "stream",
     "text": [
      "/var/folders/7d/bm3zqtjx7xsb__yxj254h7kh0000gn/T/ipykernel_34682/3627128649.py:1: DeprecationWarning: executable_path has been deprecated, please pass in a Service object\n",
      "  driver = webdriver.Chrome('/Users/dongyokim/main/jupyter/chromedriver/chromedriver')\n"
     ]
    }
   ],
   "source": [
    "driver = webdriver.Chrome('/Users/dongyokim/main/jupyter/chromedriver/chromedriver')\n",
    "driver.get(\"http://zzzscore.com/color/\")\n",
    "\n",
    "driver.set_window_size(1000, 1000)"
   ]
  },
  {
   "cell_type": "code",
   "execution_count": 24,
   "id": "56a6e810",
   "metadata": {},
   "outputs": [
    {
     "name": "stdout",
     "output_type": "stream",
     "text": [
      "230\n"
     ]
    },
    {
     "name": "stderr",
     "output_type": "stream",
     "text": [
      "/var/folders/7d/bm3zqtjx7xsb__yxj254h7kh0000gn/T/ipykernel_34682/1436589643.py:1: DeprecationWarning: find_elements_by_* commands are deprecated. Please use find_elements() instead\n",
      "  btns = driver.find_elements_by_xpath('//*[@id=\"grid\"]/div')\n"
     ]
    }
   ],
   "source": [
    "btns = driver.find_elements_by_xpath('//*[@id=\"grid\"]/div')\n",
    "print(len(btns))"
   ]
  },
  {
   "cell_type": "markdown",
   "id": "87048358",
   "metadata": {},
   "source": [
    "### 디자인 정보(css) 추출"
   ]
  },
  {
   "cell_type": "code",
   "execution_count": 26,
   "id": "a7367730",
   "metadata": {},
   "outputs": [
    {
     "data": {
      "text/plain": [
       "['rgba(232, 228, 143, 1)',\n",
       " 'rgba(232, 228, 143, 1)',\n",
       " 'rgba(199, 195, 110, 1)',\n",
       " 'rgba(232, 228, 143, 1)',\n",
       " 'rgba(255, 0, 0, 1)',\n",
       " 'rgba(255, 0, 0, 1)',\n",
       " 'rgba(255, 0, 0, 1)',\n",
       " 'rgba(255, 0, 0, 1)',\n",
       " 'rgba(255, 0, 0, 1)',\n",
       " 'rgba(255, 0, 0, 1)',\n",
       " 'rgba(255, 0, 0, 1)',\n",
       " 'rgba(255, 0, 0, 1)',\n",
       " 'rgba(255, 0, 0, 1)',\n",
       " 'rgba(255, 0, 0, 1)',\n",
       " 'rgba(255, 0, 0, 1)',\n",
       " 'rgba(255, 0, 0, 1)',\n",
       " 'rgba(255, 0, 0, 1)',\n",
       " 'rgba(255, 0, 0, 1)',\n",
       " 'rgba(255, 0, 0, 1)',\n",
       " 'rgba(255, 0, 0, 1)',\n",
       " 'rgba(255, 0, 0, 1)',\n",
       " 'rgba(255, 0, 0, 1)',\n",
       " 'rgba(255, 0, 0, 1)',\n",
       " 'rgba(255, 0, 0, 1)',\n",
       " 'rgba(255, 0, 0, 1)',\n",
       " 'rgba(255, 0, 0, 1)',\n",
       " 'rgba(255, 0, 0, 1)',\n",
       " 'rgba(255, 0, 0, 1)',\n",
       " 'rgba(255, 0, 0, 1)',\n",
       " 'rgba(255, 0, 0, 1)',\n",
       " 'rgba(255, 0, 0, 1)',\n",
       " 'rgba(255, 0, 0, 1)',\n",
       " 'rgba(255, 0, 0, 1)',\n",
       " 'rgba(255, 0, 0, 1)',\n",
       " 'rgba(255, 0, 0, 1)',\n",
       " 'rgba(255, 0, 0, 1)',\n",
       " 'rgba(255, 0, 0, 1)',\n",
       " 'rgba(255, 0, 0, 1)',\n",
       " 'rgba(255, 0, 0, 1)',\n",
       " 'rgba(255, 0, 0, 1)',\n",
       " 'rgba(255, 0, 0, 1)',\n",
       " 'rgba(255, 0, 0, 1)',\n",
       " 'rgba(255, 0, 0, 1)',\n",
       " 'rgba(255, 0, 0, 1)',\n",
       " 'rgba(255, 0, 0, 1)',\n",
       " 'rgba(255, 0, 0, 1)',\n",
       " 'rgba(255, 0, 0, 1)',\n",
       " 'rgba(255, 0, 0, 1)',\n",
       " 'rgba(255, 0, 0, 1)',\n",
       " 'rgba(255, 0, 0, 1)',\n",
       " 'rgba(255, 0, 0, 1)',\n",
       " 'rgba(255, 0, 0, 1)',\n",
       " 'rgba(255, 0, 0, 1)',\n",
       " 'rgba(255, 0, 0, 1)',\n",
       " 'rgba(255, 0, 0, 1)',\n",
       " 'rgba(255, 0, 0, 1)',\n",
       " 'rgba(255, 0, 0, 1)',\n",
       " 'rgba(255, 0, 0, 1)',\n",
       " 'rgba(255, 0, 0, 1)',\n",
       " 'rgba(255, 0, 0, 1)',\n",
       " 'rgba(255, 0, 0, 1)',\n",
       " 'rgba(255, 0, 0, 1)',\n",
       " 'rgba(255, 0, 0, 1)',\n",
       " 'rgba(255, 0, 0, 1)',\n",
       " 'rgba(255, 0, 0, 1)',\n",
       " 'rgba(255, 0, 0, 1)',\n",
       " 'rgba(255, 0, 0, 1)',\n",
       " 'rgba(255, 0, 0, 1)',\n",
       " 'rgba(255, 0, 0, 1)',\n",
       " 'rgba(255, 0, 0, 1)',\n",
       " 'rgba(255, 0, 0, 1)',\n",
       " 'rgba(255, 0, 0, 1)',\n",
       " 'rgba(255, 0, 0, 1)',\n",
       " 'rgba(255, 0, 0, 1)',\n",
       " 'rgba(255, 0, 0, 1)',\n",
       " 'rgba(255, 0, 0, 1)',\n",
       " 'rgba(255, 0, 0, 1)',\n",
       " 'rgba(255, 0, 0, 1)',\n",
       " 'rgba(255, 0, 0, 1)',\n",
       " 'rgba(255, 0, 0, 1)',\n",
       " 'rgba(255, 0, 0, 1)',\n",
       " 'rgba(255, 0, 0, 1)',\n",
       " 'rgba(255, 0, 0, 1)',\n",
       " 'rgba(255, 0, 0, 1)',\n",
       " 'rgba(255, 0, 0, 1)',\n",
       " 'rgba(255, 0, 0, 1)',\n",
       " 'rgba(255, 0, 0, 1)',\n",
       " 'rgba(255, 0, 0, 1)',\n",
       " 'rgba(255, 0, 0, 1)',\n",
       " 'rgba(255, 0, 0, 1)',\n",
       " 'rgba(255, 0, 0, 1)',\n",
       " 'rgba(255, 0, 0, 1)',\n",
       " 'rgba(255, 0, 0, 1)',\n",
       " 'rgba(255, 0, 0, 1)',\n",
       " 'rgba(255, 0, 0, 1)',\n",
       " 'rgba(255, 0, 0, 1)',\n",
       " 'rgba(255, 0, 0, 1)',\n",
       " 'rgba(255, 0, 0, 1)',\n",
       " 'rgba(255, 0, 0, 1)',\n",
       " 'rgba(255, 0, 0, 1)',\n",
       " 'rgba(255, 0, 0, 1)',\n",
       " 'rgba(255, 0, 0, 1)',\n",
       " 'rgba(255, 0, 0, 1)',\n",
       " 'rgba(255, 0, 0, 1)',\n",
       " 'rgba(255, 0, 0, 1)',\n",
       " 'rgba(255, 0, 0, 1)',\n",
       " 'rgba(255, 0, 0, 1)',\n",
       " 'rgba(255, 0, 0, 1)',\n",
       " 'rgba(255, 0, 0, 1)',\n",
       " 'rgba(255, 0, 0, 1)',\n",
       " 'rgba(255, 0, 0, 1)',\n",
       " 'rgba(255, 0, 0, 1)',\n",
       " 'rgba(255, 0, 0, 1)',\n",
       " 'rgba(255, 0, 0, 1)',\n",
       " 'rgba(255, 0, 0, 1)',\n",
       " 'rgba(255, 0, 0, 1)',\n",
       " 'rgba(255, 0, 0, 1)',\n",
       " 'rgba(255, 0, 0, 1)',\n",
       " 'rgba(255, 0, 0, 1)',\n",
       " 'rgba(255, 0, 0, 1)',\n",
       " 'rgba(255, 0, 0, 1)',\n",
       " 'rgba(255, 0, 0, 1)',\n",
       " 'rgba(255, 0, 0, 1)',\n",
       " 'rgba(255, 0, 0, 1)',\n",
       " 'rgba(255, 0, 0, 1)',\n",
       " 'rgba(255, 0, 0, 1)',\n",
       " 'rgba(255, 0, 0, 1)',\n",
       " 'rgba(255, 0, 0, 1)',\n",
       " 'rgba(255, 0, 0, 1)',\n",
       " 'rgba(255, 0, 0, 1)',\n",
       " 'rgba(255, 0, 0, 1)',\n",
       " 'rgba(255, 0, 0, 1)',\n",
       " 'rgba(255, 0, 0, 1)',\n",
       " 'rgba(255, 0, 0, 1)',\n",
       " 'rgba(255, 0, 0, 1)',\n",
       " 'rgba(255, 0, 0, 1)',\n",
       " 'rgba(255, 0, 0, 1)',\n",
       " 'rgba(255, 0, 0, 1)',\n",
       " 'rgba(255, 0, 0, 1)',\n",
       " 'rgba(255, 0, 0, 1)',\n",
       " 'rgba(255, 0, 0, 1)',\n",
       " 'rgba(255, 0, 0, 1)',\n",
       " 'rgba(255, 0, 0, 1)',\n",
       " 'rgba(255, 0, 0, 1)',\n",
       " 'rgba(255, 0, 0, 1)',\n",
       " 'rgba(255, 0, 0, 1)',\n",
       " 'rgba(255, 0, 0, 1)',\n",
       " 'rgba(255, 0, 0, 1)',\n",
       " 'rgba(255, 0, 0, 1)',\n",
       " 'rgba(255, 0, 0, 1)',\n",
       " 'rgba(255, 0, 0, 1)',\n",
       " 'rgba(255, 0, 0, 1)',\n",
       " 'rgba(255, 0, 0, 1)',\n",
       " 'rgba(255, 0, 0, 1)',\n",
       " 'rgba(255, 0, 0, 1)',\n",
       " 'rgba(255, 0, 0, 1)',\n",
       " 'rgba(255, 0, 0, 1)',\n",
       " 'rgba(255, 0, 0, 1)',\n",
       " 'rgba(255, 0, 0, 1)',\n",
       " 'rgba(255, 0, 0, 1)',\n",
       " 'rgba(255, 0, 0, 1)',\n",
       " 'rgba(255, 0, 0, 1)',\n",
       " 'rgba(255, 0, 0, 1)',\n",
       " 'rgba(255, 0, 0, 1)',\n",
       " 'rgba(255, 0, 0, 1)',\n",
       " 'rgba(255, 0, 0, 1)',\n",
       " 'rgba(255, 0, 0, 1)',\n",
       " 'rgba(255, 0, 0, 1)',\n",
       " 'rgba(255, 0, 0, 1)',\n",
       " 'rgba(255, 0, 0, 1)',\n",
       " 'rgba(255, 0, 0, 1)',\n",
       " 'rgba(255, 0, 0, 1)',\n",
       " 'rgba(255, 0, 0, 1)',\n",
       " 'rgba(255, 0, 0, 1)',\n",
       " 'rgba(255, 0, 0, 1)',\n",
       " 'rgba(255, 0, 0, 1)',\n",
       " 'rgba(255, 0, 0, 1)',\n",
       " 'rgba(255, 0, 0, 1)',\n",
       " 'rgba(255, 0, 0, 1)',\n",
       " 'rgba(255, 0, 0, 1)',\n",
       " 'rgba(255, 0, 0, 1)',\n",
       " 'rgba(255, 0, 0, 1)',\n",
       " 'rgba(255, 0, 0, 1)',\n",
       " 'rgba(255, 0, 0, 1)',\n",
       " 'rgba(255, 0, 0, 1)',\n",
       " 'rgba(255, 0, 0, 1)',\n",
       " 'rgba(255, 0, 0, 1)',\n",
       " 'rgba(255, 0, 0, 1)',\n",
       " 'rgba(255, 0, 0, 1)',\n",
       " 'rgba(255, 0, 0, 1)',\n",
       " 'rgba(255, 0, 0, 1)',\n",
       " 'rgba(255, 0, 0, 1)',\n",
       " 'rgba(255, 0, 0, 1)',\n",
       " 'rgba(255, 0, 0, 1)',\n",
       " 'rgba(255, 0, 0, 1)',\n",
       " 'rgba(255, 0, 0, 1)',\n",
       " 'rgba(255, 0, 0, 1)',\n",
       " 'rgba(255, 0, 0, 1)',\n",
       " 'rgba(255, 0, 0, 1)',\n",
       " 'rgba(255, 0, 0, 1)',\n",
       " 'rgba(255, 0, 0, 1)',\n",
       " 'rgba(255, 0, 0, 1)',\n",
       " 'rgba(255, 0, 0, 1)',\n",
       " 'rgba(255, 0, 0, 1)',\n",
       " 'rgba(255, 0, 0, 1)',\n",
       " 'rgba(255, 0, 0, 1)',\n",
       " 'rgba(255, 0, 0, 1)',\n",
       " 'rgba(255, 0, 0, 1)',\n",
       " 'rgba(255, 0, 0, 1)',\n",
       " 'rgba(255, 0, 0, 1)',\n",
       " 'rgba(255, 0, 0, 1)',\n",
       " 'rgba(255, 0, 0, 1)',\n",
       " 'rgba(255, 0, 0, 1)',\n",
       " 'rgba(255, 0, 0, 1)',\n",
       " 'rgba(255, 0, 0, 1)',\n",
       " 'rgba(255, 0, 0, 1)',\n",
       " 'rgba(255, 0, 0, 1)',\n",
       " 'rgba(255, 0, 0, 1)',\n",
       " 'rgba(255, 0, 0, 1)',\n",
       " 'rgba(255, 0, 0, 1)',\n",
       " 'rgba(255, 0, 0, 1)',\n",
       " 'rgba(255, 0, 0, 1)',\n",
       " 'rgba(255, 0, 0, 1)',\n",
       " 'rgba(255, 0, 0, 1)',\n",
       " 'rgba(255, 0, 0, 1)',\n",
       " 'rgba(255, 0, 0, 1)',\n",
       " 'rgba(255, 0, 0, 1)',\n",
       " 'rgba(255, 0, 0, 1)',\n",
       " 'rgba(255, 0, 0, 1)',\n",
       " 'rgba(255, 0, 0, 1)']"
      ]
     },
     "execution_count": 26,
     "metadata": {},
     "output_type": "execute_result"
    }
   ],
   "source": [
    "btns_rgba = [btn.value_of_css_property('background-color') for btn in btns]\n",
    "btns_rgba"
   ]
  },
  {
   "cell_type": "code",
   "execution_count": 29,
   "id": "f49b2dd1",
   "metadata": {},
   "outputs": [
    {
     "name": "stdout",
     "output_type": "stream",
     "text": [
      "Counter({'rgba(255, 0, 0, 1)': 226, 'rgba(232, 228, 143, 1)': 3, 'rgba(199, 195, 110, 1)': 1})\n"
     ]
    }
   ],
   "source": [
    "# 해당 key의 개수가 1인 것이 정답 \n",
    "result = Counter(btns_rgba)\n",
    "print(result) #여기서 value가 1인게 정답"
   ]
  },
  {
   "cell_type": "code",
   "execution_count": 31,
   "id": "b89908c2",
   "metadata": {},
   "outputs": [],
   "source": [
    "for key, value in result.items():\n",
    "    if value == 1:\n",
    "        answer = key\n",
    "        break "
   ]
  },
  {
   "cell_type": "code",
   "execution_count": 32,
   "id": "51f7471f",
   "metadata": {
    "scrolled": true
   },
   "outputs": [
    {
     "data": {
      "text/plain": [
       "'rgba(199, 195, 110, 1)'"
      ]
     },
     "execution_count": 32,
     "metadata": {},
     "output_type": "execute_result"
    }
   ],
   "source": [
    "answer"
   ]
  },
  {
   "cell_type": "code",
   "execution_count": 35,
   "id": "bc38da94",
   "metadata": {},
   "outputs": [],
   "source": [
    "# 해당 rgb값이 있는 인덱스를 찾고 btn과 일치하는 인덱스를 클릭 \n",
    "index = btns_rgba.index(answer)\n",
    "btns[index].click()"
   ]
  },
  {
   "cell_type": "code",
   "execution_count": 36,
   "id": "e611743c",
   "metadata": {},
   "outputs": [],
   "source": [
    "driver.quit()"
   ]
  },
  {
   "cell_type": "markdown",
   "id": "dacfa66b",
   "metadata": {},
   "source": [
    "## 함수생성 "
   ]
  },
  {
   "cell_type": "code",
   "execution_count": 44,
   "id": "5d97d3fd",
   "metadata": {},
   "outputs": [
    {
     "name": "stderr",
     "output_type": "stream",
     "text": [
      "/var/folders/7d/bm3zqtjx7xsb__yxj254h7kh0000gn/T/ipykernel_34682/2679276312.py:1: DeprecationWarning: executable_path has been deprecated, please pass in a Service object\n",
      "  driver = webdriver.Chrome('/Users/dongyokim/main/jupyter/chromedriver/chromedriver')\n"
     ]
    }
   ],
   "source": [
    "driver = webdriver.Chrome('/Users/dongyokim/main/jupyter/chromedriver/chromedriver')\n",
    "driver.get(\"http://zzzscore.com/color/\")\n",
    "driver.implicitly_wait(10)\n",
    "driver.set_window_size(1000, 1000)"
   ]
  },
  {
   "cell_type": "code",
   "execution_count": 45,
   "id": "41dc1ece",
   "metadata": {},
   "outputs": [],
   "source": [
    "def color_test():\n",
    "    start = time.time()\n",
    "    while time.time() - start <=60:\n",
    "        btns = driver.find_elements_by_xpath('//*[@id=\"grid\"]/div')\n",
    "        score = driver.find_element_by_css_selector('#score').text\n",
    "        btns_rgba = [btn.value_of_css_property('background-color') for btn in btns]\n",
    "\n",
    "        result = Counter(btns_rgba)\n",
    "\n",
    "        for key, value in result.items():\n",
    "            if value == 1:\n",
    "                answer = key\n",
    "                break \n",
    "        index = btns_rgba.index(answer)\n",
    "        btns[index].click()\n",
    "        if score == \"0\":\n",
    "            print('===== 색감 테스트를 시작합니다 ======')\n",
    "            print()\n",
    "        else:\n",
    "            print(\"Level: {}\".format(score))\n",
    "            print()\n",
    "    \n",
    "    print('당신의 점수는 {}점입니다.'.format(score))\n",
    "\n",
    "    \n"
   ]
  },
  {
   "cell_type": "code",
   "execution_count": 46,
   "id": "aee0222f",
   "metadata": {},
   "outputs": [
    {
     "name": "stderr",
     "output_type": "stream",
     "text": [
      "/var/folders/7d/bm3zqtjx7xsb__yxj254h7kh0000gn/T/ipykernel_34682/1995740592.py:4: DeprecationWarning: find_elements_by_* commands are deprecated. Please use find_elements() instead\n",
      "  btns = driver.find_elements_by_xpath('//*[@id=\"grid\"]/div')\n",
      "/var/folders/7d/bm3zqtjx7xsb__yxj254h7kh0000gn/T/ipykernel_34682/1995740592.py:5: DeprecationWarning: find_element_by_* commands are deprecated. Please use find_element() instead\n",
      "  score = driver.find_element_by_css_selector('#score').text\n"
     ]
    },
    {
     "name": "stdout",
     "output_type": "stream",
     "text": [
      "===== 색감 테스트를 시작합니다 ======\n",
      "\n",
      "Level: 1\n",
      "\n",
      "Level: 2\n",
      "\n",
      "Level: 3\n",
      "\n",
      "Level: 4\n",
      "\n",
      "Level: 5\n",
      "\n",
      "Level: 6\n",
      "\n",
      "Level: 7\n",
      "\n",
      "Level: 8\n",
      "\n",
      "Level: 9\n",
      "\n",
      "Level: 10\n",
      "\n",
      "Level: 11\n",
      "\n",
      "Level: 12\n",
      "\n",
      "Level: 13\n",
      "\n",
      "Level: 14\n",
      "\n",
      "Level: 15\n",
      "\n",
      "Level: 16\n",
      "\n",
      "Level: 17\n",
      "\n",
      "Level: 18\n",
      "\n",
      "Level: 19\n",
      "\n",
      "Level: 20\n",
      "\n",
      "Level: 21\n",
      "\n",
      "Level: 22\n",
      "\n",
      "Level: 23\n",
      "\n",
      "Level: 24\n",
      "\n",
      "Level: 25\n",
      "\n",
      "Level: 26\n",
      "\n",
      "Level: 27\n",
      "\n",
      "Level: 28\n",
      "\n",
      "Level: 29\n",
      "\n",
      "Level: 30\n",
      "\n",
      "Level: 31\n",
      "\n",
      "Level: 32\n",
      "\n",
      "Level: 33\n",
      "\n",
      "Level: 34\n",
      "\n",
      "Level: 35\n",
      "\n",
      "Level: 36\n",
      "\n",
      "Level: 37\n",
      "\n",
      "Level: 38\n",
      "\n",
      "Level: 39\n",
      "\n",
      "Level: 40\n",
      "\n",
      "Level: 41\n",
      "\n",
      "Level: 42\n",
      "\n",
      "Level: 43\n",
      "\n",
      "Level: 44\n",
      "\n",
      "Level: 45\n",
      "\n",
      "Level: 46\n",
      "\n",
      "Level: 47\n",
      "\n",
      "Level: 48\n",
      "\n",
      "Level: 49\n",
      "\n",
      "Level: 50\n",
      "\n",
      "Level: 51\n",
      "\n",
      "Level: 52\n",
      "\n",
      "Level: 53\n",
      "\n",
      "Level: 54\n",
      "\n",
      "Level: 55\n",
      "\n",
      "Level: 56\n",
      "\n",
      "Level: 57\n",
      "\n",
      "Level: 58\n",
      "\n",
      "Level: 59\n",
      "\n",
      "Level: 60\n",
      "\n",
      "Level: 61\n",
      "\n",
      "Level: 62\n",
      "\n",
      "Level: 63\n",
      "\n",
      "Level: 64\n",
      "\n",
      "Level: 65\n",
      "\n",
      "Level: 66\n",
      "\n",
      "Level: 67\n",
      "\n",
      "Level: 68\n",
      "\n",
      "Level: 69\n",
      "\n",
      "Level: 70\n",
      "\n",
      "Level: 71\n",
      "\n",
      "Level: 72\n",
      "\n",
      "Level: 73\n",
      "\n",
      "Level: 74\n",
      "\n",
      "Level: 75\n",
      "\n",
      "Level: 76\n",
      "\n",
      "Level: 77\n",
      "\n",
      "당신의 점수는 77점입니다.\n"
     ]
    }
   ],
   "source": [
    "color_test()"
   ]
  },
  {
   "cell_type": "code",
   "execution_count": 47,
   "id": "18dbfe02",
   "metadata": {},
   "outputs": [],
   "source": [
    "driver.quit()"
   ]
  },
  {
   "cell_type": "markdown",
   "id": "f2d5f55f",
   "metadata": {},
   "source": [
    "  ## 간단버전 "
   ]
  },
  {
   "cell_type": "code",
   "execution_count": 51,
   "id": "535e4fb2",
   "metadata": {},
   "outputs": [
    {
     "name": "stderr",
     "output_type": "stream",
     "text": [
      "/var/folders/7d/bm3zqtjx7xsb__yxj254h7kh0000gn/T/ipykernel_34682/3627128649.py:1: DeprecationWarning: executable_path has been deprecated, please pass in a Service object\n",
      "  driver = webdriver.Chrome('/Users/dongyokim/main/jupyter/chromedriver/chromedriver')\n"
     ]
    }
   ],
   "source": [
    "driver = webdriver.Chrome('/Users/dongyokim/main/jupyter/chromedriver/chromedriver')\n",
    "driver.get(\"http://zzzscore.com/color/\")\n",
    "\n",
    "driver.set_window_size(1000, 1000)"
   ]
  },
  {
   "cell_type": "code",
   "execution_count": 52,
   "id": "02e568a5",
   "metadata": {},
   "outputs": [
    {
     "name": "stdout",
     "output_type": "stream",
     "text": [
      "======= 색감 테스트를 시작합니다. =======\n"
     ]
    },
    {
     "name": "stderr",
     "output_type": "stream",
     "text": [
      "/var/folders/7d/bm3zqtjx7xsb__yxj254h7kh0000gn/T/ipykernel_34682/900793382.py:4: DeprecationWarning: find_element_by_* commands are deprecated. Please use find_element() instead\n",
      "  driver.find_element_by_css_selector('#grid > .main').click()\n"
     ]
    },
    {
     "name": "stdout",
     "output_type": "stream",
     "text": [
      "======= 테스트 결과 ========\n",
      "색맹테스트 당신의 레벨은 197 입니다.\n",
      "대박!! 사람이 가능한 점수가 아닌데..\n"
     ]
    },
    {
     "name": "stderr",
     "output_type": "stream",
     "text": [
      "/var/folders/7d/bm3zqtjx7xsb__yxj254h7kh0000gn/T/ipykernel_34682/900793382.py:7: DeprecationWarning: find_element_by_* commands are deprecated. Please use find_element() instead\n",
      "  p = driver.find_element_by_css_selector('#result > div.resultContent > p:nth-child(1)').text\n",
      "/var/folders/7d/bm3zqtjx7xsb__yxj254h7kh0000gn/T/ipykernel_34682/900793382.py:8: DeprecationWarning: find_element_by_* commands are deprecated. Please use find_element() instead\n",
      "  level = driver.find_element_by_css_selector('#result > div.resultContent > strong').text\n",
      "/var/folders/7d/bm3zqtjx7xsb__yxj254h7kh0000gn/T/ipykernel_34682/900793382.py:9: DeprecationWarning: find_element_by_* commands are deprecated. Please use find_element() instead\n",
      "  comment = driver.find_element_by_css_selector('#result > div.resultContent > p.comment').text\n"
     ]
    }
   ],
   "source": [
    "print('======= 색감 테스트를 시작합니다. =======')\n",
    "while True:\n",
    "    try:\n",
    "        driver.find_element_by_css_selector('#grid > .main').click()\n",
    "    except:\n",
    "        break\n",
    "p = driver.find_element_by_css_selector('#result > div.resultContent > p:nth-child(1)').text\n",
    "level = driver.find_element_by_css_selector('#result > div.resultContent > strong').text\n",
    "comment = driver.find_element_by_css_selector('#result > div.resultContent > p.comment').text\n",
    "\n",
    "print('======= 테스트 결과 ========')\n",
    "print(p, level, '입니다.')\n",
    "print(comment)\n",
    "\n",
    "driver.quit()"
   ]
  },
  {
   "cell_type": "code",
   "execution_count": null,
   "id": "51788b8c",
   "metadata": {},
   "outputs": [],
   "source": []
  }
 ],
 "metadata": {
  "kernelspec": {
   "display_name": "Python 3 (ipykernel)",
   "language": "python",
   "name": "python3"
  },
  "language_info": {
   "codemirror_mode": {
    "name": "ipython",
    "version": 3
   },
   "file_extension": ".py",
   "mimetype": "text/x-python",
   "name": "python",
   "nbconvert_exporter": "python",
   "pygments_lexer": "ipython3",
   "version": "3.9.7"
  }
 },
 "nbformat": 4,
 "nbformat_minor": 5
}
