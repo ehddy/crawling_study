{
 "cells": [
  {
   "cell_type": "code",
   "execution_count": 2,
   "id": "5c24a65b",
   "metadata": {},
   "outputs": [],
   "source": [
    "from selenium import webdriver\n",
    "import time\n",
    "from selenium.webdriver.common.keys import Keys\n",
    "from bs4 import BeautifulSoup as bs\n",
    "\n"
   ]
  },
  {
   "cell_type": "code",
   "execution_count": 5,
   "id": "a0afd7fa",
   "metadata": {},
   "outputs": [
    {
     "name": "stderr",
     "output_type": "stream",
     "text": [
      "/var/folders/7d/bm3zqtjx7xsb__yxj254h7kh0000gn/T/ipykernel_39375/3130214790.py:1: DeprecationWarning: executable_path has been deprecated, please pass in a Service object\n",
      "  driver = webdriver.Chrome('/Users/dongyokim/main/jupyter/chromedriver/chromedriver')\n"
     ]
    }
   ],
   "source": [
    "driver = webdriver.Chrome('/Users/dongyokim/main/jupyter/chromedriver/chromedriver')\n",
    "driver.get(\"https://www.twitch.tv/soorte214/clip/AgileGracefulCheesecakePeteZarollTie\")\n",
    "\n",
    "driver.set_window_size(1000, 1000)"
   ]
  },
  {
   "cell_type": "code",
   "execution_count": 10,
   "id": "7d675920",
   "metadata": {},
   "outputs": [
    {
     "name": "stdout",
     "output_type": "stream",
     "text": [
      "https://production.assets.clips.twitchcdn.net/33794274480-offset-2606.mp4?sig=fb26adb66aef19a4c338be630e26d6123fb8d6b5&token=%7B%22authorization%22%3A%7B%22forbidden%22%3Afalse%2C%22reason%22%3A%22%22%7D%2C%22clip_uri%22%3A%22https%3A%2F%2Fproduction.assets.clips.twitchcdn.net%2F33794274480-offset-2606.mp4%22%2C%22device_id%22%3A%22jw7UptdZZAje6hugXAnqvLB6hMFADXiZ%22%2C%22expires%22%3A1659704014%2C%22user_id%22%3A%22%22%2C%22version%22%3A2%7D\n"
     ]
    },
    {
     "name": "stderr",
     "output_type": "stream",
     "text": [
      "/var/folders/7d/bm3zqtjx7xsb__yxj254h7kh0000gn/T/ipykernel_39375/2977622985.py:1: DeprecationWarning: find_element_by_* commands are deprecated. Please use find_element() instead\n",
      "  vid_url = driver.find_element_by_tag_name('video').get_attribute('src')\n"
     ]
    }
   ],
   "source": [
    "vid_url = driver.find_element_by_tag_name('video').get_attribute('src')\n",
    "print(vid_url)"
   ]
  },
  {
   "cell_type": "code",
   "execution_count": 18,
   "id": "216bd72b",
   "metadata": {},
   "outputs": [
    {
     "name": "stderr",
     "output_type": "stream",
     "text": [
      "/var/folders/7d/bm3zqtjx7xsb__yxj254h7kh0000gn/T/ipykernel_39375/291252228.py:2: DeprecationWarning: find_element_by_* commands are deprecated. Please use find_element() instead\n",
      "  vid_title = driver.find_element_by_css_selector('#root > div > div.Layout-sc-nxg1ff-0.bSuLAT > div > main > div.root-scrollable.scrollable-area.scrollable-area--suppress-scroll-x > div.simplebar-scroll-content > div > div > div.channel-root.channel-root--watch-chat.channel-root--watch.channel-root--unanimated > div.Layout-sc-nxg1ff-0.cIfBon.channel-root__main--with-chat > div.channel-root__info.channel-root__info--offline.channel-root__info--with-chat > div > div.Layout-sc-nxg1ff-0.jFeSNS > div > div.Layout-sc-nxg1ff-0.iQhdFE.metadata-layout__split-top > div.Layout-sc-nxg1ff-0 > h2').text\n",
      "/var/folders/7d/bm3zqtjx7xsb__yxj254h7kh0000gn/T/ipykernel_39375/291252228.py:4: DeprecationWarning: find_element_by_* commands are deprecated. Please use find_element() instead\n",
      "  vid_date = driver.find_element_by_css_selector('#root > div > div.Layout-sc-nxg1ff-0.bSuLAT > div > main > div.root-scrollable.scrollable-area.scrollable-area--suppress-scroll-x > div.simplebar-scroll-content > div > div > div.channel-root.channel-root--watch-chat.channel-root--watch.channel-root--unanimated > div.Layout-sc-nxg1ff-0.cIfBon.channel-root__main--with-chat > div.channel-root__info.channel-root__info--offline.channel-root__info--with-chat > div > div.Layout-sc-nxg1ff-0.jFeSNS > div > div.Layout-sc-nxg1ff-0.iQhdFE.metadata-layout__split-top > div.Layout-sc-nxg1ff-0 > div.Layout-sc-nxg1ff-0.gZaqky > div > p').text\n"
     ]
    }
   ],
   "source": [
    "# 제목\n",
    "vid_title = driver.find_element_by_css_selector('#root > div > div.Layout-sc-nxg1ff-0.bSuLAT > div > main > div.root-scrollable.scrollable-area.scrollable-area--suppress-scroll-x > div.simplebar-scroll-content > div > div > div.channel-root.channel-root--watch-chat.channel-root--watch.channel-root--unanimated > div.Layout-sc-nxg1ff-0.cIfBon.channel-root__main--with-chat > div.channel-root__info.channel-root__info--offline.channel-root__info--with-chat > div > div.Layout-sc-nxg1ff-0.jFeSNS > div > div.Layout-sc-nxg1ff-0.iQhdFE.metadata-layout__split-top > div.Layout-sc-nxg1ff-0 > h2').text\n",
    "# 날짜 \n",
    "vid_date = driver.find_element_by_css_selector('#root > div > div.Layout-sc-nxg1ff-0.bSuLAT > div > main > div.root-scrollable.scrollable-area.scrollable-area--suppress-scroll-x > div.simplebar-scroll-content > div > div > div.channel-root.channel-root--watch-chat.channel-root--watch.channel-root--unanimated > div.Layout-sc-nxg1ff-0.cIfBon.channel-root__main--with-chat > div.channel-root__info.channel-root__info--offline.channel-root__info--with-chat > div > div.Layout-sc-nxg1ff-0.jFeSNS > div > div.Layout-sc-nxg1ff-0.iQhdFE.metadata-layout__split-top > div.Layout-sc-nxg1ff-0 > div.Layout-sc-nxg1ff-0.gZaqky > div > p').text"
   ]
  },
  {
   "cell_type": "code",
   "execution_count": 19,
   "id": "e98b13d1",
   "metadata": {},
   "outputs": [
    {
     "name": "stdout",
     "output_type": "stream",
     "text": [
      "31아재는도트를좋아한다 \t 3년전\n"
     ]
    }
   ],
   "source": [
    "#특수문자 없애고 빈칸도 없에기\n",
    "import re\n",
    "vid_title = re.sub('[^0-9a-zA-Zㄱ-힗]', '', vid_title)\n",
    "vid_date = re.sub('[^0-9a-zA-Zㄱ-힗]', '', vid_date)\n",
    "print(vid_title,'\\t',vid_date)\n",
    "\n",
    "from urllib.request import urlretrieve\n",
    "urlretrieve(vid_url, vid_title+'_'+vid_date+'.mp4')\n",
    "\n",
    "driver.close()"
   ]
  },
  {
   "cell_type": "code",
   "execution_count": null,
   "id": "6b9d0d6d",
   "metadata": {},
   "outputs": [],
   "source": []
  }
 ],
 "metadata": {
  "kernelspec": {
   "display_name": "Python 3 (ipykernel)",
   "language": "python",
   "name": "python3"
  },
  "language_info": {
   "codemirror_mode": {
    "name": "ipython",
    "version": 3
   },
   "file_extension": ".py",
   "mimetype": "text/x-python",
   "name": "python",
   "nbconvert_exporter": "python",
   "pygments_lexer": "ipython3",
   "version": "3.9.7"
  }
 },
 "nbformat": 4,
 "nbformat_minor": 5
}
