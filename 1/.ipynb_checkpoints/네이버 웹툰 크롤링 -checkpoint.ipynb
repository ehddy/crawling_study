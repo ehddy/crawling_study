{
 "cells": [
  {
   "cell_type": "code",
   "execution_count": 1,
   "id": "f057a184",
   "metadata": {},
   "outputs": [],
   "source": [
    "from bs4 import BeautifulSoup as bs \n",
    "import requests\n",
    "import pandas as pd\n",
    "import numpy as np"
   ]
  },
  {
   "cell_type": "code",
   "execution_count": 2,
   "id": "3faf6c6c",
   "metadata": {},
   "outputs": [],
   "source": [
    "link = \"https://comic.naver.com/webtoon/weekday.nhn\"\n",
    "\n",
    "\n",
    "res = requests.get(link)\n",
    "\n",
    "# 파이썬에서 쉽게 분석할 수 있도록 파싱 작업 \n",
    "soup = bs(res.text, 'html.parser')"
   ]
  },
  {
   "cell_type": "code",
   "execution_count": 14,
   "id": "2a18d07f",
   "metadata": {},
   "outputs": [],
   "source": [
    "a = soup.select('#content > div.list_area.daily_all .col')"
   ]
  },
  {
   "cell_type": "code",
   "execution_count": 15,
   "id": "83d47ad0",
   "metadata": {},
   "outputs": [
    {
     "data": {
      "text/plain": [
       "7"
      ]
     },
     "execution_count": 15,
     "metadata": {},
     "output_type": "execute_result"
    }
   ],
   "source": [
    "len(a)"
   ]
  },
  {
   "cell_type": "code",
   "execution_count": null,
   "id": "217d206c",
   "metadata": {},
   "outputs": [],
   "source": [
    "for i in a:\n",
    "    "
   ]
  }
 ],
 "metadata": {
  "kernelspec": {
   "display_name": "Python 3 (ipykernel)",
   "language": "python",
   "name": "python3"
  },
  "language_info": {
   "codemirror_mode": {
    "name": "ipython",
    "version": 3
   },
   "file_extension": ".py",
   "mimetype": "text/x-python",
   "name": "python",
   "nbconvert_exporter": "python",
   "pygments_lexer": "ipython3",
   "version": "3.9.7"
  }
 },
 "nbformat": 4,
 "nbformat_minor": 5
}
