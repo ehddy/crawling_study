{
 "cells": [
  {
   "cell_type": "code",
   "execution_count": 1,
   "id": "63f9d01b",
   "metadata": {},
   "outputs": [
    {
     "name": "stderr",
     "output_type": "stream",
     "text": [
      "/var/folders/7d/bm3zqtjx7xsb__yxj254h7kh0000gn/T/ipykernel_86502/1277587608.py:6: DeprecationWarning: executable_path has been deprecated, please pass in a Service object\n",
      "  driver = webdriver.Chrome('/Users/dongyokim/main/jupyter/chromedriver/chromedriver')\n"
     ]
    }
   ],
   "source": [
    "from selenium import webdriver\n",
    "import time\n",
    "from selenium.webdriver.common.keys import Keys\n",
    "from bs4 import BeautifulSoup as bs \n",
    "\n",
    "driver = webdriver.Chrome('/Users/dongyokim/main/jupyter/chromedriver/chromedriver')\n",
    "\n",
    "driver.get('http://zzzscore.com/1to50/')\n",
    "driver.set_window_size(1000, 1000)"
   ]
  },
  {
   "cell_type": "code",
   "execution_count": null,
   "id": "ba2f04de",
   "metadata": {},
   "outputs": [],
   "source": [
    "btns = driver.find_elements_by_xpath('//*[@id=\"grid\"]/div[*]') "
   ]
  },
  {
   "cell_type": "code",
   "execution_count": null,
   "id": "32d10300",
   "metadata": {},
   "outputs": [],
   "source": [
    "driver.quit()"
   ]
  },
  {
   "cell_type": "code",
   "execution_count": null,
   "id": "df00b4dd",
   "metadata": {},
   "outputs": [],
   "source": [
    "btns = driver.find_elements_by_css_selector('#grid > div')"
   ]
  },
  {
   "cell_type": "code",
   "execution_count": null,
   "id": "65a4d7ab",
   "metadata": {},
   "outputs": [],
   "source": [
    "\n",
    "num = 1 \n",
    "for btn in btns:\n",
    "    print(btn.text)\n",
    "    if btn.text == str(num):\n",
    "        btn.click()\n",
    "        print('{}번 클릭'.format(num))\n",
    "        num += 1 \n"
   ]
  },
  {
   "cell_type": "code",
   "execution_count": null,
   "id": "69a35593",
   "metadata": {},
   "outputs": [],
   "source": [
    "import time "
   ]
  },
  {
   "cell_type": "code",
   "execution_count": 2,
   "id": "91f074d5",
   "metadata": {},
   "outputs": [],
   "source": [
    "def click_box():\n",
    "    start = time.time()\n",
    "    for num in range(1, 51):\n",
    "        btns = driver.find_elements_by_css_selector('#grid > div')\n",
    "        for btn in btns: \n",
    "            if btn.text == str(num):\n",
    "                btn.click()\n",
    "                print('{}번 클릭'.format(num))\n",
    "    end = time.time()\n",
    "\n",
    "    print()\n",
    "    print('순발력테스트 당신의 기록은: {0:.2f}초 입니다.'.format(end-start))\n",
    "    return \n"
   ]
  },
  {
   "cell_type": "code",
   "execution_count": 3,
   "id": "15ed1d81",
   "metadata": {},
   "outputs": [
    {
     "name": "stderr",
     "output_type": "stream",
     "text": [
      "/var/folders/7d/bm3zqtjx7xsb__yxj254h7kh0000gn/T/ipykernel_86502/603611907.py:4: DeprecationWarning: find_elements_by_* commands are deprecated. Please use find_elements() instead\n",
      "  btns = driver.find_elements_by_css_selector('#grid > div')\n"
     ]
    },
    {
     "name": "stdout",
     "output_type": "stream",
     "text": [
      "1번 클릭\n",
      "2번 클릭\n",
      "3번 클릭\n",
      "4번 클릭\n",
      "5번 클릭\n",
      "6번 클릭\n",
      "7번 클릭\n",
      "8번 클릭\n",
      "9번 클릭\n",
      "10번 클릭\n",
      "11번 클릭\n",
      "12번 클릭\n",
      "13번 클릭\n",
      "14번 클릭\n",
      "15번 클릭\n",
      "16번 클릭\n",
      "17번 클릭\n",
      "18번 클릭\n",
      "19번 클릭\n",
      "20번 클릭\n",
      "21번 클릭\n",
      "22번 클릭\n",
      "23번 클릭\n",
      "24번 클릭\n",
      "25번 클릭\n",
      "26번 클릭\n",
      "27번 클릭\n",
      "28번 클릭\n",
      "29번 클릭\n",
      "30번 클릭\n",
      "31번 클릭\n",
      "32번 클릭\n",
      "33번 클릭\n",
      "34번 클릭\n",
      "35번 클릭\n",
      "36번 클릭\n",
      "37번 클릭\n",
      "38번 클릭\n",
      "39번 클릭\n",
      "40번 클릭\n",
      "41번 클릭\n",
      "42번 클릭\n",
      "43번 클릭\n",
      "44번 클릭\n",
      "45번 클릭\n",
      "46번 클릭\n",
      "47번 클릭\n",
      "48번 클릭\n",
      "49번 클릭\n",
      "50번 클릭\n",
      "\n",
      "순발력테스트 당신의 기록은: 7.33초 입니다.\n"
     ]
    }
   ],
   "source": [
    "click_box()"
   ]
  },
  {
   "cell_type": "code",
   "execution_count": null,
   "id": "f6c1b9c5",
   "metadata": {},
   "outputs": [],
   "source": [
    "print(\"==== 순발력 테스트를 시작합니다 ====\")\n",
    "click_box()\n",
    "while True:\n",
    "    regame = input('다시하시겠습니까?(yes or no) ')\n",
    "\n",
    "    if regame == 'yes':\n",
    "        driver.find_element_by_xpath('//*[@id=\"result\"]/a[1]').click()\n",
    "        click_box()\n",
    "\n",
    "    else:\n",
    "        driver.quit()\n",
    "        print('====== 프로그램을 종료합니다 ======')\n",
    "        break"
   ]
  },
  {
   "cell_type": "code",
   "execution_count": null,
   "id": "cc6d39ab",
   "metadata": {},
   "outputs": [],
   "source": [
    "driver.quit()"
   ]
  },
  {
   "cell_type": "code",
   "execution_count": null,
   "id": "64244f86",
   "metadata": {},
   "outputs": [],
   "source": []
  },
  {
   "cell_type": "code",
   "execution_count": null,
   "id": "470a5256",
   "metadata": {},
   "outputs": [],
   "source": []
  }
 ],
 "metadata": {
  "kernelspec": {
   "display_name": "Python 3 (ipykernel)",
   "language": "python",
   "name": "python3"
  },
  "language_info": {
   "codemirror_mode": {
    "name": "ipython",
    "version": 3
   },
   "file_extension": ".py",
   "mimetype": "text/x-python",
   "name": "python",
   "nbconvert_exporter": "python",
   "pygments_lexer": "ipython3",
   "version": "3.9.7"
  }
 },
 "nbformat": 4,
 "nbformat_minor": 5
}
